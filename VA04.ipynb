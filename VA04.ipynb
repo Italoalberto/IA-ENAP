{
  "nbformat": 4,
  "nbformat_minor": 0,
  "metadata": {
    "colab": {
      "provenance": [],
      "authorship_tag": "ABX9TyMwd9TJtHGIhPjj42uDjxF6",
      "include_colab_link": true
    },
    "kernelspec": {
      "name": "python3",
      "display_name": "Python 3"
    },
    "language_info": {
      "name": "python"
    }
  },
  "cells": [
    {
      "cell_type": "markdown",
      "metadata": {
        "id": "view-in-github",
        "colab_type": "text"
      },
      "source": [
        "<a href=\"https://colab.research.google.com/github/Italoalberto/IA-ENAP/blob/main/VA04.ipynb\" target=\"_parent\"><img src=\"https://colab.research.google.com/assets/colab-badge.svg\" alt=\"Open In Colab\"/></a>"
      ]
    },
    {
      "cell_type": "markdown",
      "source": [
        "# Caso fictício: O Departamento Jurídico da Prefeitura de SP"
      ],
      "metadata": {
        "id": "HJn5R0tYq85K"
      }
    },
    {
      "cell_type": "code",
      "source": [
        "# Importar dependências\n",
        "from transformers import pipeline"
      ],
      "metadata": {
        "id": "HRvu8p9yDMwO"
      },
      "execution_count": null,
      "outputs": []
    },
    {
      "cell_type": "code",
      "source": [
        "# Carregar um modelo de linguagem pré-treinado\n",
        "qa_pipeline = pipeline(\"question-answering\", model=\"deepset/roberta-base-squad2\")\n",
        "\n",
        "# Função para buscar respostas em um conjunto de documentos\n",
        "def buscar_resposta(pergunta, documentos):\n",
        "  respostas = []\n",
        "  for documento in documentos:\n",
        "    resposta = qa_pipeline({\n",
        "        'question': pergunta,\n",
        "        'context': documento\n",
        "    })\n",
        "    respostas.append(resposta)\n",
        "  # Aqui você deve implementar a lógica para escolher a melhor resposta\n",
        "  # Por exemplo, pode ser a resposta com maior score:\n",
        "    melhor_resposta = max(respostas, key=lambda x: x['score']) if respostas else None\n",
        "    return melhor_resposta"
      ],
      "metadata": {
        "id": "e4ZI-0_FKIJu"
      },
      "execution_count": null,
      "outputs": []
    },
    {
      "cell_type": "code",
      "source": [
        "# Exemplo de uso\n",
        "pergunta = \"O que garante os direitos do consumidor?\"\n",
        "documentos = [\n",
        "    'Os direitos do consumidor exigem a disponibilização de produtos de qualidade para os consumidores',\n",
        "    'As leis de trânsito estabelecem normas de circulação nas vias públicas para carros e pedestres.',\n",
        "    'O regulamento de zonas verdes define as áreas protegidas e suas normas devem ser respeitadas',\n",
        "    'O código tributário dispõe sobre a arrecadação de impostos e taxas sobre produtos'\n",
        "]\n",
        "resposta = buscar_resposta(pergunta, documentos)\n",
        "print(resposta)"
      ],
      "metadata": {
        "colab": {
          "base_uri": "https://localhost:8080/"
        },
        "id": "kn2aGSW2-omj",
        "outputId": "98551307-0995-4128-dec1-dfa945b8d465"
      },
      "execution_count": null,
      "outputs": [
        {
          "output_type": "stream",
          "name": "stdout",
          "text": [
            "{'score': 0.26865166425704956, 'start': 35, 'end': 76, 'answer': 'disponibilização de produtos de qualidade'}\n"
          ]
        }
      ]
    },
    {
      "cell_type": "markdown",
      "source": [
        "# Considerações sobre esse modelo\n",
        "É importante destacar que esse modelo não é o mais eficiente e foi apenas utilizado para fins ilustrativos, mas para melhores resultados utilizar modelos mais robustos e lógica mais elaborada para escolher melhor resposta retornada do modelo"
      ],
      "metadata": {
        "id": "C93Tj8RCruEZ"
      }
    },
    {
      "cell_type": "code",
      "source": [],
      "metadata": {
        "id": "dq0Y5swwsBcR"
      },
      "execution_count": null,
      "outputs": []
    }
  ]
}